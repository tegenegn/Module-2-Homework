{
 "cells": [
  {
   "cell_type": "markdown",
   "metadata": {},
   "source": [
    "1. Round 4.5667 to the nearest hundreth using a build-in function, round()."
   ]
  },
  {
   "cell_type": "code",
   "execution_count": 1,
   "metadata": {},
   "outputs": [
    {
     "data": {
      "text/plain": [
       "4.57"
      ]
     },
     "execution_count": 1,
     "metadata": {},
     "output_type": "execute_result"
    }
   ],
   "source": [
    "round(4.5667,2)"
   ]
  },
  {
   "cell_type": "markdown",
   "metadata": {},
   "source": [
    "2. Convert \"657\" to an integer data type"
   ]
  },
  {
   "cell_type": "code",
   "execution_count": 2,
   "metadata": {},
   "outputs": [
    {
     "data": {
      "text/plain": [
       "657"
      ]
     },
     "execution_count": 2,
     "metadata": {},
     "output_type": "execute_result"
    }
   ],
   "source": [
    "int(\"657\")"
   ]
  },
  {
   "cell_type": "markdown",
   "metadata": {},
   "source": [
    "3.\n",
    "Write a program to get two numbers from a user. Then, create a secret code where a code consists of 6 numbers and each number is randomly generated number between two numbers from a user. "
   ]
  },
  {
   "cell_type": "code",
   "execution_count": 3,
   "metadata": {},
   "outputs": [
    {
     "name": "stdout",
     "output_type": "stream",
     "text": [
      "Enter a number: 7\n",
      "Enter a second number8\n",
      "The secrete code is: 7-7-7-8-7-8\n"
     ]
    }
   ],
   "source": [
    "import random as rand\n",
    "\n",
    "num1 = int(input('Enter a number: '))\n",
    "num2 = int(input('Enter a second number'))\n",
    "\n",
    "d1 = rand.randint(num1, num2)\n",
    "d2 = rand.randint(num1, num2)\n",
    "d3 = rand.randint(num1, num2)\n",
    "d4 = rand.randint(num1, num2)\n",
    "d5 = rand.randint(num1, num2)\n",
    "d6 = rand.randint(num1, num2)\n",
    "print(f\"The secrete code is: {d1}-{d2}-{d3}-{d4}-{d5}-{d6}\")"
   ]
  },
  {
   "cell_type": "markdown",
   "metadata": {},
   "source": [
    "4.\n",
    "Write a program to center align below text where number of characters per line is 40:\n",
    "\n",
    "    Hickory, dickory, dock,\n",
    "    The mouse ran up the clock.\n",
    "    The clock struck one,\n",
    "    The mouse ran down,\n",
    "    Hickory, dickory, dock\n"
   ]
  },
  {
   "cell_type": "code",
   "execution_count": 4,
   "metadata": {},
   "outputs": [],
   "source": [
    "line1 = \"Hickory, dickory, dock,\"\n",
    "line2 = \"The mouse ran up the clock.\"\n",
    "line3 = \"The clock struck one,\"\n",
    "line4 = \"The mouse ran down,\"\n",
    "line5 = \"Hickory, dickory, dock\"\n",
    "\n"
   ]
  },
  {
   "cell_type": "code",
   "execution_count": 5,
   "metadata": {},
   "outputs": [],
   "source": [
    "line1 = line1.center(40)\n",
    "line2 = line2.center(40)\n",
    "line3 = line3.center(40)\n",
    "line4 = line4.center(40)\n",
    "line5 = line5.center(40)\n"
   ]
  },
  {
   "cell_type": "code",
   "execution_count": 6,
   "metadata": {},
   "outputs": [
    {
     "name": "stdout",
     "output_type": "stream",
     "text": [
      "        Hickory, dickory, dock,         \n",
      "      The mouse ran up the clock.       \n",
      "         The clock struck one,          \n",
      "          The mouse ran down,           \n",
      "         Hickory, dickory, dock         \n"
     ]
    }
   ],
   "source": [
    "print(line1)\n",
    "print(line2)\n",
    "print(line3)\n",
    "print(line4)\n",
    "print(line5)"
   ]
  },
  {
   "cell_type": "markdown",
   "metadata": {},
   "source": [
    "5. Write a function to calculate the miles per gallon.\n",
    "Get a miles driven and gallons used from a user and call your function to calculate the miles per gallon. "
   ]
  },
  {
   "cell_type": "code",
   "execution_count": 7,
   "metadata": {},
   "outputs": [
    {
     "name": "stdout",
     "output_type": "stream",
     "text": [
      "Enter number of miles driven: 120\n",
      "Enter number of gallons used: 12\n",
      "\n",
      "miles driven per gallons\n",
      "\n",
      "120.0 miles/12.0 gallons = 10.00 miles per gallon\n"
     ]
    }
   ],
   "source": [
    "def mpg():\n",
    "    miles = float(input('Enter number of miles driven: '))\n",
    "    gal = float(input('Enter number of gallons used: '))\n",
    "    \n",
    "    mpg = miles/gal\n",
    "    print('\\nmiles driven per gallons\\n')\n",
    "    print(f\"{miles} miles/{gal} gallons = {mpg:.2f} miles per gallon\")\n",
    "mpg()"
   ]
  },
  {
   "cell_type": "markdown",
   "metadata": {},
   "source": [
    "6.\n",
    "Enhance compute() function to compute circle's area and circumference where :\n",
    " - circle's area = 3.14 X (radius X radius)   \n",
    " - circle's circumference = 3.14 X diameter\n",
    "    \n",
    "You must make sure the original functionality of compute() function still works.\n",
    "Get necessary information from a user and then call your function to show it works."
   ]
  },
  {
   "cell_type": "code",
   "execution_count": 8,
   "metadata": {},
   "outputs": [
    {
     "name": "stdout",
     "output_type": "stream",
     "text": [
      "\n"
     ]
    }
   ],
   "source": [
    "# original compute() function\n",
    "\n",
    "def compute(x, y) :\n",
    "    area = x * y\n",
    "    perim = (x + y) * 2\n",
    "    print(f\"\\nArea is {area}\")\n",
    "    print(f\"Perimeter is {perim}\")\n",
    "    \n",
    "print()    "
   ]
  },
  {
   "cell_type": "code",
   "execution_count": 9,
   "metadata": {},
   "outputs": [
    {
     "name": "stdout",
     "output_type": "stream",
     "text": [
      "Please enter the circle radius: 5\n",
      "Options:\n",
      "1. Circle\n",
      "2. Square\n",
      "3. Rectangle\n",
      "Enter your option: 1\n",
      "*** The Area and Perimeter Program ***\n",
      "My option is: Circle\n",
      "The radius is: 5.0 and the diameter is: 10.0\n",
      "Area is 78.500\n",
      "Circumference is 31.400\n"
     ]
    }
   ],
   "source": [
    "def compute():\n",
    "    r = float(input(\"Please enter the circle radius: \"))\n",
    "    pi = 3.14\n",
    "    A = pi * (r * r)\n",
    "    C = pi * (2 * r)    \n",
    "    print(\"Options:\")\n",
    "    print(\"1. Circle\")\n",
    "    print(\"2. Square\")\n",
    "    print(\"3. Rectangle\")\n",
    "    \n",
    "    choice = int(input(\"Enter your option: \"))\n",
    "\n",
    "    print(f\"*** The Area and Perimeter Program ***\")  \n",
    "\n",
    "    if choice == 1 :\n",
    "        print(f\"My option is: Circle\")\n",
    "        print(f\"The radius is: {r} and the diameter is: {2 * r}\")\n",
    "        print(f\"Area is {A:.3f}\")\n",
    "        print(f\"Circumference is {C:.3f}\")\n",
    "    else:\n",
    "        print(\"Bye!\")\n",
    "    \n",
    "\n",
    "         \n",
    "       \n",
    "    \n",
    "\n",
    "compute()\n",
    "\n"
   ]
  },
  {
   "cell_type": "markdown",
   "metadata": {},
   "source": [
    "7.\n",
    "Write a function called multiply_two() that accepts two parameters. The function should print a message like '15 + 2 = 17'.  Randomly generate two numbers between 1 and 100, then call the function with the two random numbers."
   ]
  },
  {
   "cell_type": "code",
   "execution_count": 10,
   "metadata": {},
   "outputs": [],
   "source": [
    "def multiply_two(x, y):\n",
    "    print(f\"{x} * {y} = {x * y}\")"
   ]
  },
  {
   "cell_type": "code",
   "execution_count": 11,
   "metadata": {},
   "outputs": [
    {
     "name": "stdout",
     "output_type": "stream",
     "text": [
      "13 * 61 = 793\n"
     ]
    }
   ],
   "source": [
    "num1 = rand.randint(1, 100)\n",
    "num2 = rand.randint(1, 100)\n",
    "multiply_two(num1, num2)"
   ]
  },
  {
   "cell_type": "markdown",
   "metadata": {},
   "source": [
    "8. Create a function for a multiplication table.  Get a number from a user and then call you function which produces a multiplication table for that number.\n",
    "The output should look something like this:\n",
    "\n",
    "        Enter a number: 3\n",
    "        3 X 1 = 3\n",
    "        3 X 2 = 6\n",
    "        3 X 3 = 9\n",
    "        3 X 4 = 12\n",
    "        3 X 5 = 15\n",
    "        3 X 6 = 18\n",
    "        3 X 7 = 21\n",
    "        3 X 8 = 24\n",
    "        3 X 9 = 27\n",
    "        "
   ]
  },
  {
   "cell_type": "code",
   "execution_count": 12,
   "metadata": {},
   "outputs": [],
   "source": [
    "def mult_table(x):\n",
    "    print(f\"\\nMultiplication Table for {x}\\n\")\n",
    "    print(f\"{x} X 1 = {x * 1}\")\n",
    "    print(f\"{x} X 2 = {x * 2}\")\n",
    "    print(f\"{x} X 3 = {x * 3}\")\n",
    "    print(f\"{x} X 4 = {x * 4}\")\n",
    "    print(f\"{x} X 5 = {x * 5}\")\n",
    "    print(f\"{x} X 6 = {x * 6}\")\n",
    "    print(f\"{x} X 7 = {x * 7}\")\n",
    "    print(f\"{x} X 8 = {x * 8}\")\n",
    "    print(f\"{x} X 9 = {x * 9}\")"
   ]
  },
  {
   "cell_type": "code",
   "execution_count": 13,
   "metadata": {},
   "outputs": [
    {
     "name": "stdout",
     "output_type": "stream",
     "text": [
      "Enter a number: 6\n",
      "\n",
      "Multiplication Table for 6\n",
      "\n",
      "6 X 1 = 6\n",
      "6 X 2 = 12\n",
      "6 X 3 = 18\n",
      "6 X 4 = 24\n",
      "6 X 5 = 30\n",
      "6 X 6 = 36\n",
      "6 X 7 = 42\n",
      "6 X 8 = 48\n",
      "6 X 9 = 54\n"
     ]
    }
   ],
   "source": [
    "num = int(input(\"Enter a number: \"))\n",
    "\n",
    "mult_table(num)\n"
   ]
  },
  {
   "cell_type": "markdown",
   "metadata": {},
   "source": [
    "9.\n",
    "Write a function that accepts a string and returns a string that is \n",
    "    - without any leading nor trailing blanks\n",
    "    - converts to all capital letters\n",
    "    - and replaces all blanks with a period(.) \n",
    "\n",
    "Write a program to accept a string from a user then call your function and display the original string and changed string.  \n",
    "\n",
    "The output should look something like this:\n",
    "\n",
    "        Enter a text: may your dreams come true\n",
    "        \n",
    "        Original Text: may your dreams come true\n",
    "        New Text: MAY.YOUR.DREAMS.COME.TRUE"
   ]
  },
  {
   "cell_type": "code",
   "execution_count": 1,
   "metadata": {},
   "outputs": [
    {
     "name": "stdout",
     "output_type": "stream",
     "text": [
      "Enter a text: may your dreams come true\n",
      "Original text: may your dreams come true\n",
      "New Text: MAY.YOUR.DREAMS.COME.TRUE\n"
     ]
    }
   ],
   "source": [
    "\n",
    "    string = input('Enter a text: ')\n",
    "    print(f\"Original text: {string}\")\n",
    "    print(f\"New Text: {string.upper().replace(' ', '.')}\")\n",
    "    "
   ]
  },
  {
   "cell_type": "markdown",
   "metadata": {},
   "source": [
    "10.\n",
    "Write a function to convert a test score to a grade where  \n",
    " - 90 - 100: A\n",
    " - 80 - 89:  B\n",
    " - 70 - 79:  C\n",
    " - 60 - 69:  D\n",
    " - < 60   :  F\n",
    " \n",
    "If a score is not between 0 and 100 then print out an error message. In the program, ask the user for a score and then call your function. "
   ]
  },
  {
   "cell_type": "code",
   "execution_count": 2,
   "metadata": {},
   "outputs": [
    {
     "name": "stdout",
     "output_type": "stream",
     "text": [
      "Enter a score:92\n",
      "This score get grade: A\n"
     ]
    }
   ],
   "source": [
    "def compute():\n",
    "\n",
    "\n",
    "    score = int(input(\"Enter a score:\"))\n",
    "          \n",
    "        \n",
    "    if score >= 90  :\n",
    "        print(\"This score get grade: A\")\n",
    "    elif score >= 80 :\n",
    "        print(\"This score get: B\")\n",
    "    elif score >= 70 :\n",
    "        print(\"This score get: C\")\n",
    "    elif score  >= 60 :\n",
    "        print(\"Thise score get: D\")\n",
    "    elif score  >= 0 :\n",
    "        print(\"This score get:F\")\n",
    "    else :\n",
    "        print(\"error message\")\n",
    "        \n",
    "        \n",
    "\n",
    "compute()"
   ]
  },
  {
   "cell_type": "code",
   "execution_count": null,
   "metadata": {},
   "outputs": [],
   "source": []
  },
  {
   "cell_type": "code",
   "execution_count": null,
   "metadata": {},
   "outputs": [],
   "source": []
  }
 ],
 "metadata": {
  "kernelspec": {
   "display_name": "Python 3 (ipykernel)",
   "language": "python",
   "name": "python3"
  },
  "language_info": {
   "codemirror_mode": {
    "name": "ipython",
    "version": 3
   },
   "file_extension": ".py",
   "mimetype": "text/x-python",
   "name": "python",
   "nbconvert_exporter": "python",
   "pygments_lexer": "ipython3",
   "version": "3.9.7"
  }
 },
 "nbformat": 4,
 "nbformat_minor": 4
}
